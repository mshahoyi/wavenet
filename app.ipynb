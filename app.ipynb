{
 "cells": [
  {
   "cell_type": "markdown",
   "metadata": {},
   "source": [
    "# Get data"
   ]
  },
  {
   "cell_type": "code",
   "execution_count": 67,
   "metadata": {},
   "outputs": [],
   "source": [
    "import torch, numpy as np, matplotlib.pyplot as plt, seaborn as sns"
   ]
  },
  {
   "cell_type": "code",
   "execution_count": 68,
   "metadata": {},
   "outputs": [
    {
     "data": {
      "text/plain": [
       "[(('.', '.', '.', '.', '.', '.', '.', '.'), 'e'),\n",
       " (('.', '.', '.', '.', '.', '.', '.', 'e'), 'm'),\n",
       " (('.', '.', '.', '.', '.', '.', 'e', 'm'), 'm'),\n",
       " (('.', '.', '.', '.', '.', 'e', 'm', 'm'), 'a'),\n",
       " (('.', '.', '.', '.', 'e', 'm', 'm', 'a'), '.'),\n",
       " (('.', '.', '.', '.', '.', '.', '.', '.'), 'o'),\n",
       " (('.', '.', '.', '.', '.', '.', '.', 'o'), 'l'),\n",
       " (('.', '.', '.', '.', '.', '.', 'o', 'l'), 'i'),\n",
       " (('.', '.', '.', '.', '.', 'o', 'l', 'i'), 'v'),\n",
       " (('.', '.', '.', '.', 'o', 'l', 'i', 'v'), 'i'),\n",
       " (('.', '.', '.', 'o', 'l', 'i', 'v', 'i'), 'a'),\n",
       " (('.', '.', 'o', 'l', 'i', 'v', 'i', 'a'), '.'),\n",
       " (('.', '.', '.', '.', '.', '.', '.', '.'), 'a'),\n",
       " (('.', '.', '.', '.', '.', '.', '.', 'a'), 'v'),\n",
       " (('.', '.', '.', '.', '.', '.', 'a', 'v'), 'a')]"
      ]
     },
     "execution_count": 68,
     "metadata": {},
     "output_type": "execute_result"
    }
   ],
   "source": [
    "names = open(\"names.txt\").read().splitlines()\n",
    "context = 8\n",
    "\n",
    "ds = []\n",
    "for name in names:\n",
    "    n = '.'*context + name + '.'\n",
    "    tuples = list(zip(*list(n[i:] for i in range(context + 1))))\n",
    "    ds.extend(list(map(lambda tup: (tup[0:context], tup[context]), tuples)))\n",
    "\n",
    "ds[:15]"
   ]
  },
  {
   "cell_type": "code",
   "execution_count": 69,
   "metadata": {},
   "outputs": [],
   "source": [
    "vocab = sorted(set('.'.join(names)))\n",
    "ctoi = {c: i for i, c in enumerate(vocab)}\n",
    "itoc = {i: c for c, i in ctoi.items() }"
   ]
  },
  {
   "cell_type": "code",
   "execution_count": 70,
   "metadata": {},
   "outputs": [],
   "source": [
    "import torch.nn.functional as F"
   ]
  },
  {
   "cell_type": "code",
   "execution_count": 71,
   "metadata": {},
   "outputs": [
    {
     "data": {
      "text/plain": [
       "torch.Size([228146, 9, 27])"
      ]
     },
     "execution_count": 71,
     "metadata": {},
     "output_type": "execute_result"
    }
   ],
   "source": [
    "ids = torch.zeros(len(ds), context + 1, dtype=torch.int)\n",
    "for i, (x, y) in enumerate(ds):\n",
    "    ids[i, 0:context] = torch.tensor(list(map(lambda c: ctoi[c],x)))\n",
    "    ids[i, context] = ctoi[y]\n",
    "\n",
    "ods = F.one_hot(ids.long(), 27)\n",
    "ods.shape\n"
   ]
  },
  {
   "cell_type": "code",
   "execution_count": 286,
   "metadata": {},
   "outputs": [],
   "source": [
    "class Linear:\n",
    "    def __init__(self, n_in, n_out, bias=True):\n",
    "        self.w = torch.randn(n_in, n_out) / (n_in ** 0.5)\n",
    "        self.b = torch.zeros(n_out) if bias else None\n",
    "        self.training = True\n",
    "\n",
    "    def __call__(self, x):\n",
    "        self.out = x @ self.w\n",
    "        if self.b is not None:\n",
    "            self.out += self.b\n",
    "        return self.out\n",
    "    \n",
    "    def parameters(self):\n",
    "        return [self.w] + ([self.b] if self.b is not None else [])\n",
    "    \n",
    "    def train(self, value=True):\n",
    "        self.training = value\n",
    "    \n",
    "class BatchNorm1d:\n",
    "    def __init__(self, n, momentum=0.001, eps=1e-5):\n",
    "        self.gain = torch.ones(n)\n",
    "        self.bias = torch.zeros(n)\n",
    "        self.r_var = torch.ones(n)\n",
    "        self.r_mean = torch.zeros(n)\n",
    "        self.momentum = momentum\n",
    "        self.eps = eps\n",
    "        self.training = True\n",
    "\n",
    "    def __call__(self, x):\n",
    "        dims = 0 if x.ndim == 2 else (0, 1)\n",
    "        mean = x.mean(dims, keepdims=True) if self.training else self.r_mean\n",
    "        var = x.std(dims, keepdims=True) if self.training else self.r_var\n",
    "        \n",
    "        self.out = self.gain * (x - mean) / torch.sqrt(var + self.eps) + self.bias\n",
    "\n",
    "        if self.training:\n",
    "            with torch.no_grad():\n",
    "                self.r_var = (1 - self.momentum) * self.r_var + self.momentum * var\n",
    "                self.r_mean = (1 - self.momentum) * self.r_mean + self.momentum * mean\n",
    "        \n",
    "        return self.out\n",
    "\n",
    "    def parameters(self):\n",
    "        return [self.gain, self.bias]\n",
    "    \n",
    "    def train(self, value=True):\n",
    "        self.training = value\n",
    "        \n",
    "class Tanh:\n",
    "    def __call__(self, x):\n",
    "        self.out = x.tanh()\n",
    "        return self.out\n",
    "    \n",
    "    def parameters(self):\n",
    "        return []\n",
    "    \n",
    "    def train(self, value=True): pass\n",
    "    \n",
    "class Embedding:\n",
    "    def __init__(self, vocab_size, dim):\n",
    "        self.C = torch.randn(vocab_size, dim)\n",
    "        self.training = True\n",
    "    \n",
    "    def __call__(self, xb):\n",
    "        self.out = self.C[xb]\n",
    "        return self.out\n",
    "\n",
    "    def parameters(self):\n",
    "        return [self.C]\n",
    "    \n",
    "    def train(self, value=True):\n",
    "        self.training = value\n",
    "\n",
    "    \n",
    "class Flatten:\n",
    "    def __init__(self, *dims):\n",
    "        self.dims = dims\n",
    "\n",
    "    def __call__(self, xb):\n",
    "        self.out = xb\n",
    "        if self.out.ndim == 2: self.out = self.out.unsqueeze(0)\n",
    "\n",
    "        bs = self.out.shape[0]\n",
    "        self.out = self.out.view(bs, *(self.dims if len(self.dims) else (-1,)))\n",
    "        return self.out\n",
    "    \n",
    "    def parameters(self):\n",
    "        return []\n",
    "    \n",
    "    def train(self, value=True): pass\n",
    "    \n",
    "class Sequential:\n",
    "    def __init__(self, *layers):\n",
    "        self.layers = layers\n",
    "        self.training = True\n",
    "\n",
    "    def __call__(self, xb):\n",
    "        self.out = xb\n",
    "        for layer in self.layers:\n",
    "            self.out = layer(self.out)\n",
    "        return self.out\n",
    "        \n",
    "    def parameters(self):\n",
    "        return [params for layer in self.layers for params in layer.parameters()]\n",
    "    \n",
    "    def train(self, value=True):\n",
    "        for layer in self.layers: layer.train(value)\n",
    "        self.training = value"
   ]
  },
  {
   "cell_type": "code",
   "execution_count": 287,
   "metadata": {},
   "outputs": [
    {
     "data": {
      "text/plain": [
       "(torch.Size([182516, 9]), torch.Size([22815, 9]), torch.Size([22815, 9]))"
      ]
     },
     "execution_count": 287,
     "metadata": {},
     "output_type": "execute_result"
    }
   ],
   "source": [
    "n1 = int(0.8*len(ids))\n",
    "n2 = int(0.9*len(ids))\n",
    "\n",
    "shuffled = ids[torch.randint(0, len(ids), (len(ids),))]\n",
    "\n",
    "tr = shuffled[0:n1]\n",
    "val = shuffled[n1:n2]\n",
    "test = shuffled[n2:]\n",
    "\n",
    "tr.shape, val.shape, test.shape\n"
   ]
  },
  {
   "cell_type": "code",
   "execution_count": 288,
   "metadata": {},
   "outputs": [
    {
     "data": {
      "text/plain": [
       "(torch.Size([22815, 8]), torch.Size([22815, 27]))"
      ]
     },
     "execution_count": 288,
     "metadata": {},
     "output_type": "execute_result"
    }
   ],
   "source": [
    "def getxy(ds):\n",
    "    return ds[:, :context], F.one_hot(ds[:, -1].long(), len(vocab)).float()\n",
    "\n",
    "Xtr, Ytr = getxy(tr)\n",
    "Xval, Yval = getxy(val)\n",
    "Xtest, Ytest = getxy(test)\n",
    "Xval.shape, Yval.shape"
   ]
  },
  {
   "cell_type": "markdown",
   "metadata": {},
   "source": [
    "# Initialization"
   ]
  },
  {
   "cell_type": "code",
   "execution_count": 295,
   "metadata": {},
   "outputs": [
    {
     "data": {
      "text/plain": [
       "76963"
      ]
     },
     "execution_count": 295,
     "metadata": {},
     "output_type": "execute_result"
    }
   ],
   "source": [
    "from functools import reduce\n",
    "import ramda as R\n",
    "\n",
    "\n",
    "n_emb = 24\n",
    "n_hidden = 128\n",
    "\n",
    "layers = [\n",
    "    Embedding(len(vocab), n_emb),\n",
    "    Flatten(4, 2*n_emb),    Linear(2*n_emb   , n_hidden  ), BatchNorm1d(n_hidden), Tanh(),\n",
    "    Flatten(2, 2*n_hidden), Linear(2*n_hidden, n_hidden  ), BatchNorm1d(n_hidden), Tanh(),\n",
    "    Flatten(),              Linear(2*n_hidden, n_hidden  ), BatchNorm1d(n_hidden), Tanh(),\n",
    "                            Linear(n_hidden,   len(vocab)),\n",
    "]\n",
    "model = Sequential(*layers)\n",
    "\n",
    "with torch.no_grad():\n",
    "    for layer in layers[:-1]:\n",
    "        if isinstance(layer, Linear): layer.w *= 5/3\n",
    "\n",
    "for param in model.parameters(): param.requires_grad_()\n",
    "\n",
    "reduce(lambda acc, cur: R.add(acc, cur.numel()), model.parameters(), 0)"
   ]
  },
  {
   "cell_type": "markdown",
   "metadata": {},
   "source": [
    "# Training"
   ]
  },
  {
   "cell_type": "code",
   "execution_count": 296,
   "metadata": {},
   "outputs": [],
   "source": [
    "tr_loss = []\n",
    "val_loss = []"
   ]
  },
  {
   "cell_type": "code",
   "execution_count": 304,
   "metadata": {},
   "outputs": [
    {
     "name": "stdout",
     "output_type": "stream",
     "text": [
      "0: Tr 1.72 | Val 1.93\n",
      "1000: Tr 1.86 | Val 1.97\n",
      "2000: Tr 1.69 | Val 1.97\n",
      "3000: Tr 1.73 | Val 1.97\n",
      "4000: Tr 1.85 | Val 1.97\n",
      "5000: Tr 1.67 | Val 1.97\n",
      "6000: Tr 1.91 | Val 1.96\n",
      "7000: Tr 1.76 | Val 1.96\n",
      "8000: Tr 1.90 | Val 1.97\n",
      "9000: Tr 1.96 | Val 1.96\n",
      "10000: Tr 1.68 | Val 1.96\n",
      "11000: Tr 1.78 | Val 1.95\n",
      "12000: Tr 1.54 | Val 1.95\n",
      "13000: Tr 1.94 | Val 1.95\n",
      "14000: Tr 1.65 | Val 1.95\n",
      "15000: Tr 1.61 | Val 1.96\n",
      "16000: Tr 1.70 | Val 1.96\n",
      "17000: Tr 1.50 | Val 1.95\n",
      "18000: Tr 1.59 | Val 1.95\n",
      "19000: Tr 1.48 | Val 1.95\n",
      "20000: Tr 1.77 | Val 1.95\n",
      "21000: Tr 1.56 | Val 1.91\n",
      "22000: Tr 1.53 | Val 1.91\n",
      "23000: Tr 1.80 | Val 1.90\n",
      "24000: Tr 1.64 | Val 1.90\n",
      "25000: Tr 1.56 | Val 1.90\n",
      "26000: Tr 1.84 | Val 1.90\n",
      "27000: Tr 1.83 | Val 1.90\n",
      "28000: Tr 1.82 | Val 1.90\n",
      "29000: Tr 1.61 | Val 1.90\n",
      "30000: Tr 1.76 | Val 1.90\n",
      "31000: Tr 1.62 | Val 1.90\n",
      "32000: Tr 1.80 | Val 1.90\n",
      "33000: Tr 1.66 | Val 1.90\n",
      "34000: Tr 1.73 | Val 1.90\n",
      "35000: Tr 1.68 | Val 1.90\n",
      "36000: Tr 1.65 | Val 1.90\n",
      "37000: Tr 1.66 | Val 1.90\n",
      "38000: Tr 1.47 | Val 1.90\n",
      "39000: Tr 1.63 | Val 1.90\n",
      "40000: Tr 1.64 | Val 1.90\n",
      "41000: Tr 1.84 | Val 1.90\n",
      "42000: Tr 1.65 | Val 1.90\n",
      "43000: Tr 1.74 | Val 1.90\n",
      "44000: Tr 1.83 | Val 1.90\n",
      "45000: Tr 1.69 | Val 1.90\n",
      "46000: Tr 1.54 | Val 1.90\n",
      "47000: Tr 1.65 | Val 1.90\n",
      "48000: Tr 1.81 | Val 1.90\n",
      "49000: Tr 1.82 | Val 1.90\n"
     ]
    }
   ],
   "source": [
    "itr = 50000\n",
    "bs  = 32*4\n",
    "rfq = 1000\n",
    "ud = []\n",
    "\n",
    "for i in range(itr):\n",
    "    lr = 0.05 if i < 20000 else 0.005\n",
    "\n",
    "    bi = torch.randint(0, len(Xtr), (bs,))\n",
    "    xb, yb = Xtr[bi], Ytr[bi]\n",
    "\n",
    "    # Forward\n",
    "    model.train()\n",
    "    x = model(xb)\n",
    "\n",
    "    # Loss\n",
    "    loss = F.cross_entropy(x, yb)\n",
    "\n",
    "    # Optim\n",
    "    for layer in layers: layer.out.retain_grad()\n",
    "    for p in model.parameters(): p.grad = None\n",
    "    loss.backward()\n",
    "    for p in model.parameters(): p.data  -= p.grad * lr\n",
    "\n",
    "    # Report\n",
    "    if i % rfq == 0:\n",
    "        tr_loss.append(loss.item())\n",
    "        \n",
    "        model.train(False)\n",
    "        preds = model(Xval)\n",
    "        val_loss.append(F.cross_entropy(preds, Yval).item())\n",
    "\n",
    "        print(f\"{i}: Tr {loss:.2f} | Val {val_loss[-1]:.2f}\")\n",
    "\n",
    "    with torch.no_grad():\n",
    "        ud.append([((lr*p.grad).std() / p.data.std()).log10().item() for p in model.parameters()])\n",
    "\n",
    "\n",
    "    # if i == 10000: break;"
   ]
  },
  {
   "cell_type": "code",
   "execution_count": 302,
   "metadata": {},
   "outputs": [
    {
     "name": "stdout",
     "output_type": "stream",
     "text": [
      "Embedding   : torch.Size([128, 8, 24])\n",
      "Flatten     : torch.Size([128, 4, 48])\n",
      "Linear      : torch.Size([128, 4, 128])\n",
      "BatchNorm1d : torch.Size([128, 4, 128])\n",
      "Tanh        : torch.Size([128, 4, 128])\n",
      "Flatten     : torch.Size([128, 2, 256])\n",
      "Linear      : torch.Size([128, 2, 128])\n",
      "BatchNorm1d : torch.Size([128, 2, 128])\n",
      "Tanh        : torch.Size([128, 2, 128])\n",
      "Flatten     : torch.Size([128, 256])\n",
      "Linear      : torch.Size([128, 128])\n",
      "BatchNorm1d : torch.Size([128, 128])\n",
      "Tanh        : torch.Size([128, 128])\n",
      "Linear      : torch.Size([128, 27])\n"
     ]
    }
   ],
   "source": [
    "for layer in model.layers:\n",
    "    print(f'{layer.__class__.__name__:12s}: {layer.out.shape}')"
   ]
  },
  {
   "cell_type": "code",
   "execution_count": 303,
   "metadata": {},
   "outputs": [
    {
     "data": {
      "image/png": "[encoded data removed]",
      "text/plain": [
       "<Figure size 640x480 with 1 Axes>"
      ]
     },
     "metadata": {},
     "output_type": "display_data"
    }
   ],
   "source": [
    "x = torch.arange(0, len(tr_loss))\n",
    "\n",
    "l1, l2 = plt.plot(x, tr_loss, x, val_loss);\n",
    "\n",
    "l1.set_label(\"train loss\")\n",
    "l2.set_label(\"val loss\")\n",
    "plt.legend();"
   ]
  },
  {
   "cell_type": "code",
   "execution_count": 265,
   "metadata": {},
   "outputs": [
    {
     "data": {
      "text/plain": [
       "'test loss: 2.13'"
      ]
     },
     "execution_count": 265,
     "metadata": {},
     "output_type": "execute_result"
    }
   ],
   "source": [
    "model.train(False)\n",
    "f\"test loss: {F.cross_entropy(model(Xtest), Ytest):.2f}\""
   ]
  },
  {
   "cell_type": "markdown",
   "metadata": {},
   "source": [
    "# Name gen"
   ]
  },
  {
   "cell_type": "code",
   "execution_count": 266,
   "metadata": {},
   "outputs": [
    {
     "data": {
      "text/plain": [
       "['neender',\n",
       " 'kuslon',\n",
       " 'keelithelo',\n",
       " 'tashn',\n",
       " 'cemany',\n",
       " 'jandrian',\n",
       " 'hukmil',\n",
       " 'beakinklon',\n",
       " 'mayon',\n",
       " 'iplan',\n",
       " 'zaek',\n",
       " 'hileiell',\n",
       " 'ryleid',\n",
       " 'jeronne',\n",
       " 'picsara',\n",
       " 'khomyb',\n",
       " 'brayten',\n",
       " 'siuniyah',\n",
       " 'marciel',\n",
       " 'cellond']"
      ]
     },
     "execution_count": 266,
     "metadata": {},
     "output_type": "execute_result"
    }
   ],
   "source": [
    "gen = []\n",
    "model.train(False)\n",
    "\n",
    "for i in range(20):\n",
    "    res = []\n",
    "    input = torch.tensor(list(map(int, context*'0')))\n",
    "\n",
    "    while True:\n",
    "        z = model(input)\n",
    "        predi = torch.multinomial(F.softmax(z, dim=1), 1).squeeze()\n",
    "        predc = itoc[predi.item()]\n",
    "\n",
    "        if predc == '.': break\n",
    "\n",
    "        res.append(predc)\n",
    "        input = torch.concat([input[1:], predi[None]])\n",
    "\n",
    "    gen.append(''.join(res))\n",
    "\n",
    "gen"
   ]
  },
  {
   "cell_type": "code",
   "execution_count": null,
   "metadata": {},
   "outputs": [],
   "source": []
  }
 ],
 "metadata": {
  "kernelspec": {
   "display_name": ".venv",
   "language": "python",
   "name": "python3"
  },
  "language_info": {
   "codemirror_mode": {
    "name": "ipython",
    "version": 3
   },
   "file_extension": ".py",
   "mimetype": "text/x-python",
   "name": "python",
   "nbconvert_exporter": "python",
   "pygments_lexer": "ipython3",
   "version": "3.10.11"
  }
 },
 "nbformat": 4,
 "nbformat_minor": 2
}
